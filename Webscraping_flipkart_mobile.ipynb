{
 "cells": [
  {
   "cell_type": "code",
   "execution_count": 100,
   "id": "9a9567ae",
   "metadata": {},
   "outputs": [
    {
     "name": "stdout",
     "output_type": "stream",
     "text": [
      "Requirement already satisfied: requests in c:\\users\\reshu\\anaconda3\\lib\\site-packages (2.25.1)\n",
      "Requirement already satisfied: urllib3<1.27,>=1.21.1 in c:\\users\\reshu\\anaconda3\\lib\\site-packages (from requests) (1.26.4)\n",
      "Requirement already satisfied: chardet<5,>=3.0.2 in c:\\users\\reshu\\anaconda3\\lib\\site-packages (from requests) (4.0.0)\n",
      "Requirement already satisfied: idna<3,>=2.5 in c:\\users\\reshu\\anaconda3\\lib\\site-packages (from requests) (2.10)\n",
      "Requirement already satisfied: certifi>=2017.4.17 in c:\\users\\reshu\\anaconda3\\lib\\site-packages (from requests) (2020.12.5)\n",
      "Note: you may need to restart the kernel to use updated packages.\n"
     ]
    }
   ],
   "source": [
    "pip install requests"
   ]
  },
  {
   "cell_type": "code",
   "execution_count": 101,
   "id": "bfc640d1",
   "metadata": {},
   "outputs": [
    {
     "name": "stdout",
     "output_type": "stream",
     "text": [
      "Requirement already satisfied: bs4 in c:\\users\\reshu\\anaconda3\\lib\\site-packages (0.0.1)\n",
      "Requirement already satisfied: beautifulsoup4 in c:\\users\\reshu\\anaconda3\\lib\\site-packages (from bs4) (4.9.3)\n",
      "Requirement already satisfied: soupsieve>1.2 in c:\\users\\reshu\\anaconda3\\lib\\site-packages (from beautifulsoup4->bs4) (2.2.1)\n",
      "Note: you may need to restart the kernel to use updated packages.\n"
     ]
    }
   ],
   "source": [
    "pip install bs4"
   ]
  },
  {
   "cell_type": "code",
   "execution_count": 102,
   "id": "bc4d8fd6",
   "metadata": {},
   "outputs": [],
   "source": [
    "import requests\n",
    "from bs4 import BeautifulSoup"
   ]
  },
  {
   "cell_type": "code",
   "execution_count": 152,
   "id": "02ea57b7",
   "metadata": {},
   "outputs": [
    {
     "name": "stdout",
     "output_type": "stream",
     "text": [
      "Enter number of pages3\n",
      "phone in page 1\n",
      "24\n",
      "phone in page 2\n",
      "24\n",
      "phone in page 3\n",
      "24\n"
     ]
    }
   ],
   "source": [
    "phn_nm=[]\n",
    "phn_pr=[]\n",
    "phn_mrp=[]\n",
    "phn_dis=[]\n",
    "phn_ra=[]\n",
    "phn_re=[]\n",
    "phn_fea=[]\n",
    "\n",
    "page_num=input(\"Enter number of pages\")\n",
    "for i in range(1,int(page_num)+1):\n",
    "    url=\"https://www.flipkart.com/search?sid=tyy%2C4io&otracker=CLP_Filters&p%5B%5D=facets.price_range.from%3DMin&p%5B%5D=facets.price_range.to%3D10000&page=\"+str(i)\n",
    "    req=requests.get(url)\n",
    "    content=BeautifulSoup(req.content,'html.parser')\n",
    "    name=content.find_all('div',{\"class\":\"_4rR01T\"})\n",
    "    price=content.find_all('div',{\"class\":\"_30jeq3 _1_WHN1\"})\n",
    "    mrp=content.find_all('div',{\"class\":\"_25b18c\"})\n",
    "    discount=content.find_all('div',{\"class\":\"_3Ay6Sb\"})\n",
    "    rating=content.find_all('div',{\"class\":\"_3LWZlK\"})\n",
    "    reviews=content.find_all('div',{\"class\":\"gUuXy-\"})\n",
    "    feature=content.find_all('div',{\"class\":\"fMghEO\"})\n",
    "  \n",
    "    \n",
    "    print(\"phone in page \"+str(i))\n",
    "    print(len(name))\n",
    "    \n",
    "    for i in name:\n",
    "        phn_nm.append(i.text)\n",
    "    for i in price:\n",
    "        phn_pr.append(i.text)\n",
    "    for i in mrp:\n",
    "        phn_mrp.append(i.text)\n",
    "    for i in discount:\n",
    "        phn_dis.append(i.text)\n",
    "    for i in rating:\n",
    "        phn_ra.append(i.text)\n",
    "    for i in reviews:\n",
    "        phn_re.append(i.text)\n",
    "    for i in feature:\n",
    "        phn_fea.append(i.text)"
   ]
  },
  {
   "cell_type": "code",
   "execution_count": 153,
   "id": "9ae24dc8",
   "metadata": {},
   "outputs": [],
   "source": [
    "import pandas as pd\n",
    "import numpy as np"
   ]
  },
  {
   "cell_type": "code",
   "execution_count": 154,
   "id": "5a255f5c",
   "metadata": {},
   "outputs": [
    {
     "name": "stdout",
     "output_type": "stream",
     "text": [
      "REDMI 9i Sport (Carbon Black, 64 GB)\n",
      "REDMI 9i Sport (Coral Green, 64 GB)\n",
      "MOTOROLA e40 (Carbon Gray, 64 GB)\n",
      "MOTOROLA e40 (Pink Clay, 64 GB)\n",
      "MOTOROLA G32 (Mineral Gray, 64 GB)\n",
      "POCO C31 (Royal Blue, 64 GB)\n",
      "MOTOROLA G32 (Satin Silver, 64 GB)\n",
      "REDMI 9i Sport (Metallic Blue, 64 GB)\n",
      "POCO C31 (Shadow Gray, 64 GB)\n",
      "realme C30 (Lake Blue, 32 GB)\n",
      "realme C30 (Bamboo Green, 32 GB)\n",
      "realme C30 (Lake Blue, 32 GB)\n",
      "REDMI 10 (Midnight Black, 64 GB)\n",
      "realme C30 (Denim Black, 32 GB)\n",
      "Nokia 105 SS\n",
      "Nokia 105 SS\n",
      "REDMI 10 (Pacific Blue, 64 GB)\n",
      "Infinix Smart 6 HD (Aqua Sky, 32 GB)\n",
      "Infinix Smart 6 HD (Origin Blue, 32 GB)\n",
      "Infinix HOT 20 Play (Luna Blue, 64 GB)\n",
      "Infinix Hot 12 (Turquoise Cyan, 64 GB)\n",
      "Infinix Hot 12 (Exploratory Blue, 64 GB)\n",
      "Infinix Hot 12 (7° Purple, 64 GB)\n",
      "Infinix Smart 6 Plus (Tranquil Sea Blue, 64 GB)\n",
      "Infinix Smart 6 HD (Force Black, 32 GB)\n",
      "REDMI 10 (Caribbean Green, 64 GB)\n",
      "Infinix Hot 12 (Polar Black, 64 GB)\n",
      "I Kall K100\n",
      "POCO C31 (Royal Blue, 32 GB)\n",
      "realme C30 (Bamboo Green, 32 GB)\n",
      "realme C30 (Denim Black, 32 GB)\n",
      "MOTOROLA g31 (Baby Blue, 64 GB)\n",
      "Infinix HOT 20 Play (Racing Black, 64 GB)\n",
      "Infinix HOT 20 Play (Fantasy Purple, 64 GB)\n",
      "Infinix Smart 6 Plus (Miracle Black, 64 GB)\n",
      "Infinix Smart 6 Plus (Crystal Violet, 64 GB)\n",
      "REDMI A1 (Black, 32 GB)\n",
      "realme C33 (Aqua Blue, 32 GB)\n",
      "realme C33 (Sandy Gold, 32 GB)\n",
      "realme C33 (Night Sea, 32 GB)\n",
      "REDMI 10A (Sea Blue, 64 GB)\n",
      "Infinix HOT 20 Play (Aurora Green, 64 GB)\n",
      "SAMSUNG Guru Music 2\n",
      "REDMI 10A (Slate grey, 64 GB)\n",
      "POCO C31 (Shadow Gray, 32 GB)\n",
      "Motorola a10\n",
      "realme C33 (Aqua Blue, 64 GB)\n",
      "realme C33 (Sandy Gold, 64 GB)\n",
      "SAMSUNG Guru Music 2\n",
      "Micromax X415\n",
      "Infinix Hot 12 Pro (Lightsaber Green, 64 GB)\n",
      "I Kall K100\n",
      "Infinix Smart 6 (Light Sea Green, 64 GB)\n",
      "Motorola a10\n",
      "LAVA A3\n",
      "Realme C30 - Locked with Airtel Prepaid (Lake Blue, 32 GB)\n",
      "LAVA Hero 600i\n",
      "SAMSUNG GURU MUSIC 2\n",
      "SAMSUNG Guru Music 2\n",
      "SAMSUNG GURU GT\n",
      "LAVA GEM\n",
      "realme C11 2021 (Cool Blue, 32 GB)\n",
      "realme C11 2021 (Cool Grey, 32 GB)\n",
      "Infinix HOT 12 Play (Racing Black, 64 GB)\n",
      "Infinix HOT 12 Play (Daylight Green, 64 GB)\n",
      "Infinix HOT 12 Play (Champagne Gold, 64 GB)\n",
      "Infinix HOT 12 Play (Horizon Blue, 64 GB)\n",
      "Infinix Smart 6 (Heart Of Ocean, 64 GB)\n",
      "Infinix Smart 6 (Starry Purple, 64 GB)\n",
      "MOTOROLA g22 (Iceberg Blue, 64 GB)\n",
      "Nokia 105 TA-1416 DS\n",
      "SAMSUNG GT-E1215\n"
     ]
    }
   ],
   "source": [
    "for i in phn_nm:\n",
    "    print(i)"
   ]
  },
  {
   "cell_type": "code",
   "execution_count": 155,
   "id": "06b2029c",
   "metadata": {},
   "outputs": [
    {
     "name": "stdout",
     "output_type": "stream",
     "text": [
      "                                Mobile Name   Price Rating  \\\n",
      "0      REDMI 9i Sport (Carbon Black, 64 GB)  ₹7,199    4.3   \n",
      "1       REDMI 9i Sport (Coral Green, 64 GB)  ₹7,199    4.3   \n",
      "2         MOTOROLA e40 (Carbon Gray, 64 GB)  ₹8,999    4.1   \n",
      "3           MOTOROLA e40 (Pink Clay, 64 GB)  ₹7,999    4.1   \n",
      "4        MOTOROLA G32 (Mineral Gray, 64 GB)  ₹9,999    4.2   \n",
      "..                                      ...     ...    ...   \n",
      "67  Infinix Smart 6 (Heart Of Ocean, 64 GB)  ₹6,699    4.3   \n",
      "68   Infinix Smart 6 (Starry Purple, 64 GB)  ₹6,699    4.3   \n",
      "69       MOTOROLA g22 (Iceberg Blue, 64 GB)  ₹9,999    3.7   \n",
      "70                     Nokia 105 TA-1416 DS  ₹1,449    4.1   \n",
      "71                         SAMSUNG GT-E1215  ₹1,665    4.3   \n",
      "\n",
      "                                 Reviews  \\\n",
      "0   4.32,04,699 Ratings & 11,885 Reviews   \n",
      "1   4.32,04,699 Ratings & 11,885 Reviews   \n",
      "2      4.153,998 Ratings & 5,416 Reviews   \n",
      "3      4.153,998 Ratings & 5,416 Reviews   \n",
      "4      4.214,707 Ratings & 1,503 Reviews   \n",
      "..                                   ...   \n",
      "67     4.327,257 Ratings & 1,874 Reviews   \n",
      "68     4.327,257 Ratings & 1,874 Reviews   \n",
      "69     3.726,503 Ratings & 3,194 Reviews   \n",
      "70        4.14,241 Ratings & 311 Reviews   \n",
      "71     4.353,873 Ratings & 4,504 Reviews   \n",
      "\n",
      "                                             Features                   MRP  \n",
      "0   4 GB RAM | 64 GB ROM | Expandable Upto 512 GB1...   ₹7,199₹9,99928% off  \n",
      "1   4 GB RAM | 64 GB ROM | Expandable Upto 512 GB1...   ₹7,199₹9,99928% off  \n",
      "2   4 GB RAM | 64 GB ROM | Expandable Upto 1 TB16....  ₹8,999₹10,99918% off  \n",
      "3   4 GB RAM | 64 GB ROM | Expandable Upto 1 TB16....  ₹7,999₹10,99927% off  \n",
      "4   4 GB RAM | 64 GB ROM16.64 cm (6.55 inch) Full ...  ₹9,999₹16,99941% off  \n",
      "..                                                ...                   ...  \n",
      "67  2 GB RAM | 64 GB ROM | Expandable Upto 512 GB1...   ₹6,699₹8,99925% off  \n",
      "68  2 GB RAM | 64 GB ROM | Expandable Upto 512 GB1...   ₹6,699₹8,99925% off  \n",
      "69  4 GB RAM | 64 GB ROM | Expandable Upto 1 TB16....  ₹9,999₹13,99928% off  \n",
      "70  32 MB RAM | 32 MB ROM4.5 cm (1.77 inch) QVGA D...    ₹1,449₹1,5999% off  \n",
      "71  NA ROM3.81 cm (1.5 inch) NA Display800 mAh Bat...                ₹1,665  \n",
      "\n",
      "[72 rows x 6 columns]\n"
     ]
    }
   ],
   "source": [
    "data={\"Mobile Name\":phn_nm,\"Price\":phn_pr,\"Rating\":phn_ra,\"Reviews\":phn_re,\"Features\":phn_fea,\"MRP\":phn_mrp}\n",
    "df=pd.DataFrame(data)\n",
    "print(df)"
   ]
  },
  {
   "cell_type": "code",
   "execution_count": 156,
   "id": "80f4e241",
   "metadata": {},
   "outputs": [
    {
     "data": {
      "text/plain": [
       "(72, 6)"
      ]
     },
     "execution_count": 156,
     "metadata": {},
     "output_type": "execute_result"
    }
   ],
   "source": [
    "df.shape"
   ]
  },
  {
   "cell_type": "code",
   "execution_count": 158,
   "id": "04119eb3",
   "metadata": {},
   "outputs": [
    {
     "data": {
      "text/html": [
       "<div>\n",
       "<style scoped>\n",
       "    .dataframe tbody tr th:only-of-type {\n",
       "        vertical-align: middle;\n",
       "    }\n",
       "\n",
       "    .dataframe tbody tr th {\n",
       "        vertical-align: top;\n",
       "    }\n",
       "\n",
       "    .dataframe thead th {\n",
       "        text-align: right;\n",
       "    }\n",
       "</style>\n",
       "<table border=\"1\" class=\"dataframe\">\n",
       "  <thead>\n",
       "    <tr style=\"text-align: right;\">\n",
       "      <th></th>\n",
       "      <th>Mobile Name</th>\n",
       "      <th>Price</th>\n",
       "      <th>Rating</th>\n",
       "      <th>Reviews</th>\n",
       "      <th>Features</th>\n",
       "      <th>MRP</th>\n",
       "    </tr>\n",
       "  </thead>\n",
       "  <tbody>\n",
       "    <tr>\n",
       "      <th>0</th>\n",
       "      <td>REDMI 9i Sport (Carbon Black, 64 GB)</td>\n",
       "      <td>₹7,199</td>\n",
       "      <td>4.3</td>\n",
       "      <td>4.32,04,699 Ratings &amp; 11,885 Reviews</td>\n",
       "      <td>4 GB RAM | 64 GB ROM | Expandable Upto 512 GB1...</td>\n",
       "      <td>₹7,199₹9,99928% off</td>\n",
       "    </tr>\n",
       "    <tr>\n",
       "      <th>1</th>\n",
       "      <td>REDMI 9i Sport (Coral Green, 64 GB)</td>\n",
       "      <td>₹7,199</td>\n",
       "      <td>4.3</td>\n",
       "      <td>4.32,04,699 Ratings &amp; 11,885 Reviews</td>\n",
       "      <td>4 GB RAM | 64 GB ROM | Expandable Upto 512 GB1...</td>\n",
       "      <td>₹7,199₹9,99928% off</td>\n",
       "    </tr>\n",
       "    <tr>\n",
       "      <th>2</th>\n",
       "      <td>MOTOROLA e40 (Carbon Gray, 64 GB)</td>\n",
       "      <td>₹8,999</td>\n",
       "      <td>4.1</td>\n",
       "      <td>4.153,998 Ratings &amp; 5,416 Reviews</td>\n",
       "      <td>4 GB RAM | 64 GB ROM | Expandable Upto 1 TB16....</td>\n",
       "      <td>₹8,999₹10,99918% off</td>\n",
       "    </tr>\n",
       "    <tr>\n",
       "      <th>3</th>\n",
       "      <td>MOTOROLA e40 (Pink Clay, 64 GB)</td>\n",
       "      <td>₹7,999</td>\n",
       "      <td>4.1</td>\n",
       "      <td>4.153,998 Ratings &amp; 5,416 Reviews</td>\n",
       "      <td>4 GB RAM | 64 GB ROM | Expandable Upto 1 TB16....</td>\n",
       "      <td>₹7,999₹10,99927% off</td>\n",
       "    </tr>\n",
       "    <tr>\n",
       "      <th>4</th>\n",
       "      <td>MOTOROLA G32 (Mineral Gray, 64 GB)</td>\n",
       "      <td>₹9,999</td>\n",
       "      <td>4.2</td>\n",
       "      <td>4.214,707 Ratings &amp; 1,503 Reviews</td>\n",
       "      <td>4 GB RAM | 64 GB ROM16.64 cm (6.55 inch) Full ...</td>\n",
       "      <td>₹9,999₹16,99941% off</td>\n",
       "    </tr>\n",
       "  </tbody>\n",
       "</table>\n",
       "</div>"
      ],
      "text/plain": [
       "                            Mobile Name   Price Rating  \\\n",
       "0  REDMI 9i Sport (Carbon Black, 64 GB)  ₹7,199    4.3   \n",
       "1   REDMI 9i Sport (Coral Green, 64 GB)  ₹7,199    4.3   \n",
       "2     MOTOROLA e40 (Carbon Gray, 64 GB)  ₹8,999    4.1   \n",
       "3       MOTOROLA e40 (Pink Clay, 64 GB)  ₹7,999    4.1   \n",
       "4    MOTOROLA G32 (Mineral Gray, 64 GB)  ₹9,999    4.2   \n",
       "\n",
       "                                Reviews  \\\n",
       "0  4.32,04,699 Ratings & 11,885 Reviews   \n",
       "1  4.32,04,699 Ratings & 11,885 Reviews   \n",
       "2     4.153,998 Ratings & 5,416 Reviews   \n",
       "3     4.153,998 Ratings & 5,416 Reviews   \n",
       "4     4.214,707 Ratings & 1,503 Reviews   \n",
       "\n",
       "                                            Features                   MRP  \n",
       "0  4 GB RAM | 64 GB ROM | Expandable Upto 512 GB1...   ₹7,199₹9,99928% off  \n",
       "1  4 GB RAM | 64 GB ROM | Expandable Upto 512 GB1...   ₹7,199₹9,99928% off  \n",
       "2  4 GB RAM | 64 GB ROM | Expandable Upto 1 TB16....  ₹8,999₹10,99918% off  \n",
       "3  4 GB RAM | 64 GB ROM | Expandable Upto 1 TB16....  ₹7,999₹10,99927% off  \n",
       "4  4 GB RAM | 64 GB ROM16.64 cm (6.55 inch) Full ...  ₹9,999₹16,99941% off  "
      ]
     },
     "execution_count": 158,
     "metadata": {},
     "output_type": "execute_result"
    }
   ],
   "source": [
    "df.head()"
   ]
  },
  {
   "cell_type": "code",
   "execution_count": 164,
   "id": "4203c5df",
   "metadata": {},
   "outputs": [
    {
     "data": {
      "text/plain": [
       "Mobile Name    0\n",
       "Price          0\n",
       "Rating         0\n",
       "Reviews        0\n",
       "Features       0\n",
       "MRP            0\n",
       "dtype: int64"
      ]
     },
     "execution_count": 164,
     "metadata": {},
     "output_type": "execute_result"
    }
   ],
   "source": [
    "df.isnull().sum()"
   ]
  },
  {
   "cell_type": "code",
   "execution_count": 165,
   "id": "78cac44a",
   "metadata": {},
   "outputs": [
    {
     "name": "stdout",
     "output_type": "stream",
     "text": [
      "File exported successfully\n"
     ]
    }
   ],
   "source": [
    "import pandas as pd\n",
    "\n",
    "# Create a Pandas Excel writer using XlsxWriter as the engine.\n",
    "writer = pd.ExcelWriter('Mobiles.xlsx', engine='xlsxwriter')\n",
    "\n",
    "# Write each dataframe to a different worksheet.\n",
    "df.to_excel(writer, sheet_name='df')\n",
    "\n",
    "\n",
    "# Close the Pandas Excel writer and output the Excel file.\n",
    "writer.save()\n",
    "print(\"File exported successfully\")"
   ]
  },
  {
   "cell_type": "code",
   "execution_count": null,
   "id": "3b0d75d8",
   "metadata": {},
   "outputs": [],
   "source": []
  }
 ],
 "metadata": {
  "kernelspec": {
   "display_name": "Python 3",
   "language": "python",
   "name": "python3"
  },
  "language_info": {
   "codemirror_mode": {
    "name": "ipython",
    "version": 3
   },
   "file_extension": ".py",
   "mimetype": "text/x-python",
   "name": "python",
   "nbconvert_exporter": "python",
   "pygments_lexer": "ipython3",
   "version": "3.8.8"
  }
 },
 "nbformat": 4,
 "nbformat_minor": 5
}
